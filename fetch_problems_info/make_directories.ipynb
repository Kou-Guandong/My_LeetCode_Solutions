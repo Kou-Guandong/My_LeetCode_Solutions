{
 "cells": [
  {
   "cell_type": "code",
   "execution_count": null,
   "metadata": {},
   "outputs": [],
   "source": [
    "import pandas as pd\n",
    "import os"
   ]
  },
  {
   "cell_type": "code",
   "execution_count": null,
   "metadata": {},
   "outputs": [],
   "source": [
    "df = pd.read_csv('authenticated-parsed.csv')"
   ]
  },
  {
   "cell_type": "code",
   "execution_count": null,
   "metadata": {},
   "outputs": [],
   "source": [
    "def mkdir_if_not_exist(dir_name):\n",
    "    if not os.path.exists(dir_name):\n",
    "        os.mkdir(dir_name)\n",
    "def touch_file(fname):\n",
    "    open(fname, 'a').close()"
   ]
  },
  {
   "cell_type": "code",
   "execution_count": null,
   "metadata": {},
   "outputs": [],
   "source": [
    "os.remove('../solutions/0-99/1. Two_Sum/Solution.class')"
   ]
  },
  {
   "cell_type": "code",
   "execution_count": null,
   "metadata": {},
   "outputs": [],
   "source": [
    "# make directories\n",
    "mkdir_if_not_exist('../solutions')\n",
    "for i, d in df.iterrows():\n",
    "    qid = int(d['question_id'])\n",
    "    dir_name = '../solutions/%s-%s' %(qid//100 * 100, qid//100*100+99)\n",
    "    mkdir_if_not_exist(dir_name)\n",
    "    quesiton_file = '%s/%s. %s' %(dir_name, qid, '_'.join(d['title'].split()).replace('/', '_') )\n",
    "    mkdir_if_not_exist(quesiton_file)\n",
    "    touch_file(quesiton_file + '/README.md')\n",
    "    for ext in ['py', 'java', 'js']:\n",
    "        os.remove(quesiton_file + '/solutions.%s' %ext)\n",
    "        touch_file(quesiton_file + '/%s-solution.%s' %(ext, ext))"
   ]
  }
 ],
 "metadata": {
  "kernelspec": {
   "display_name": "Python 3",
   "language": "python",
   "name": "python3"
  },
  "language_info": {
   "codemirror_mode": {
    "name": "ipython",
    "version": 3
   },
   "file_extension": ".py",
   "mimetype": "text/x-python",
   "name": "python",
   "nbconvert_exporter": "python",
   "pygments_lexer": "ipython3",
   "version": "3.7.4"
  }
 },
 "nbformat": 4,
 "nbformat_minor": 2
}
